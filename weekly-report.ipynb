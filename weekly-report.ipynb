{
 "cells": [
  {
   "cell_type": "markdown",
   "metadata": {},
   "source": [
    "# Weekly Report for Hospital Data"
   ]
  },
  {
   "cell_type": "code",
   "execution_count": 1,
   "metadata": {},
   "outputs": [],
   "source": [
    "# Imports\n",
    "import sys\n",
    "import pandas as pd\n",
    "import psycopg\n",
    "\n",
    "from credentials import DB_PASSWORD, DB_USER"
   ]
  },
  {
   "cell_type": "code",
   "execution_count": 2,
   "metadata": {},
   "outputs": [],
   "source": [
    "# Connect to DB\n",
    "conn = psycopg.connect(\n",
    "    host=\"sculptor.stat.cmu.edu\", dbname=DB_USER,\n",
    "    user=DB_USER, password=DB_PASSWORD\n",
    ")\n",
    "cur = conn.cursor()"
   ]
  },
  {
   "cell_type": "code",
   "execution_count": 9,
   "metadata": {},
   "outputs": [],
   "source": [
    "# Summary I & II\n",
    "with conn.transaction():\n",
    "    cur.execute(\n",
    "        \"SELECT report_date AS week, COUNT(*) AS records_loaded, \"\n",
    "        \"SUM(total_adult_hospital_beds), SUM(total_pediatric_hospital_beds), \"\n",
    "        \"SUM(total_adult_hospital_beds_occupied), \"\n",
    "        \"SUM(total_pediatric_hospital_beds_occupied), \"\n",
    "        \"SUM(inpatient_beds_occupied_covid) \"\n",
    "        \"FROM facility_reports \"\n",
    "        \"GROUP BY report_date \"\n",
    "        \"ORDER BY week DESC;\"\n",
    "    )\n",
    "\n",
    "records = pd.DataFrame(\n",
    "    cur.fetchall(), columns=[\"Week\", \"Records Loaded\", \"Total Adult Hospital Beds Available\", \n",
    "                             \"Total Pediatric Hospital Beds Available\", \n",
    "                             \"Total Adult Hospital Beds In-Use\", \"Total Pediatric Hospital Beds In-Use\",\n",
    "                             \"Total Hospital Beds Used by COVID cases\"]\n",
    ")"
   ]
  },
  {
   "cell_type": "code",
   "execution_count": 11,
   "metadata": {},
   "outputs": [
    {
     "data": {
      "text/html": [
       "<div>\n",
       "<style scoped>\n",
       "    .dataframe tbody tr th:only-of-type {\n",
       "        vertical-align: middle;\n",
       "    }\n",
       "\n",
       "    .dataframe tbody tr th {\n",
       "        vertical-align: top;\n",
       "    }\n",
       "\n",
       "    .dataframe thead th {\n",
       "        text-align: right;\n",
       "    }\n",
       "</style>\n",
       "<table border=\"1\" class=\"dataframe\">\n",
       "  <thead>\n",
       "    <tr style=\"text-align: right;\">\n",
       "      <th></th>\n",
       "      <th>Week</th>\n",
       "      <th>Records Loaded</th>\n",
       "    </tr>\n",
       "  </thead>\n",
       "  <tbody>\n",
       "    <tr>\n",
       "      <th>0</th>\n",
       "      <td>2022-10-21</td>\n",
       "      <td>4985</td>\n",
       "    </tr>\n",
       "    <tr>\n",
       "      <th>1</th>\n",
       "      <td>2022-10-14</td>\n",
       "      <td>4995</td>\n",
       "    </tr>\n",
       "    <tr>\n",
       "      <th>2</th>\n",
       "      <td>2022-10-07</td>\n",
       "      <td>4996</td>\n",
       "    </tr>\n",
       "    <tr>\n",
       "      <th>3</th>\n",
       "      <td>2022-09-30</td>\n",
       "      <td>4997</td>\n",
       "    </tr>\n",
       "    <tr>\n",
       "      <th>4</th>\n",
       "      <td>2022-09-23</td>\n",
       "      <td>4996</td>\n",
       "    </tr>\n",
       "  </tbody>\n",
       "</table>\n",
       "</div>"
      ],
      "text/plain": [
       "         Week  Records Loaded\n",
       "0  2022-10-21            4985\n",
       "1  2022-10-14            4995\n",
       "2  2022-10-07            4996\n",
       "3  2022-09-30            4997\n",
       "4  2022-09-23            4996"
      ]
     },
     "execution_count": 11,
     "metadata": {},
     "output_type": "execute_result"
    }
   ],
   "source": [
    "# I\n",
    "records[[\"Week\", \"Records Loaded\"]]"
   ]
  },
  {
   "cell_type": "code",
   "execution_count": 12,
   "metadata": {},
   "outputs": [
    {
     "data": {
      "text/html": [
       "<div>\n",
       "<style scoped>\n",
       "    .dataframe tbody tr th:only-of-type {\n",
       "        vertical-align: middle;\n",
       "    }\n",
       "\n",
       "    .dataframe tbody tr th {\n",
       "        vertical-align: top;\n",
       "    }\n",
       "\n",
       "    .dataframe thead th {\n",
       "        text-align: right;\n",
       "    }\n",
       "</style>\n",
       "<table border=\"1\" class=\"dataframe\">\n",
       "  <thead>\n",
       "    <tr style=\"text-align: right;\">\n",
       "      <th></th>\n",
       "      <th>Week</th>\n",
       "      <th>Records Loaded</th>\n",
       "      <th>Total Adult Hospital Beds Available</th>\n",
       "      <th>Total Pediatric Hospital Beds Available</th>\n",
       "      <th>Total Adult Hospital Beds In-Use</th>\n",
       "      <th>Total Pediatric Hospital Beds In-Use</th>\n",
       "      <th>Total Hospital Beds Used by COVID cases</th>\n",
       "    </tr>\n",
       "  </thead>\n",
       "  <tbody>\n",
       "    <tr>\n",
       "      <th>0</th>\n",
       "      <td>2022-10-21</td>\n",
       "      <td>4985</td>\n",
       "      <td>NaN</td>\n",
       "      <td>NaN</td>\n",
       "      <td>NaN</td>\n",
       "      <td>NaN</td>\n",
       "      <td>NaN</td>\n",
       "    </tr>\n",
       "    <tr>\n",
       "      <th>1</th>\n",
       "      <td>2022-10-14</td>\n",
       "      <td>4995</td>\n",
       "      <td>NaN</td>\n",
       "      <td>NaN</td>\n",
       "      <td>NaN</td>\n",
       "      <td>NaN</td>\n",
       "      <td>NaN</td>\n",
       "    </tr>\n",
       "    <tr>\n",
       "      <th>2</th>\n",
       "      <td>2022-10-07</td>\n",
       "      <td>4996</td>\n",
       "      <td>NaN</td>\n",
       "      <td>NaN</td>\n",
       "      <td>NaN</td>\n",
       "      <td>NaN</td>\n",
       "      <td>NaN</td>\n",
       "    </tr>\n",
       "    <tr>\n",
       "      <th>3</th>\n",
       "      <td>2022-09-30</td>\n",
       "      <td>4997</td>\n",
       "      <td>NaN</td>\n",
       "      <td>39804.7</td>\n",
       "      <td>NaN</td>\n",
       "      <td>28042.8</td>\n",
       "      <td>24142.5</td>\n",
       "    </tr>\n",
       "    <tr>\n",
       "      <th>4</th>\n",
       "      <td>2022-09-23</td>\n",
       "      <td>4996</td>\n",
       "      <td>NaN</td>\n",
       "      <td>39605.5</td>\n",
       "      <td>NaN</td>\n",
       "      <td>27778.1</td>\n",
       "      <td>NaN</td>\n",
       "    </tr>\n",
       "  </tbody>\n",
       "</table>\n",
       "</div>"
      ],
      "text/plain": [
       "         Week  Records Loaded Total Adult Hospital Beds Available  \\\n",
       "0  2022-10-21            4985                                 NaN   \n",
       "1  2022-10-14            4995                                 NaN   \n",
       "2  2022-10-07            4996                                 NaN   \n",
       "3  2022-09-30            4997                                 NaN   \n",
       "4  2022-09-23            4996                                 NaN   \n",
       "\n",
       "  Total Pediatric Hospital Beds Available Total Adult Hospital Beds In-Use  \\\n",
       "0                                     NaN                              NaN   \n",
       "1                                     NaN                              NaN   \n",
       "2                                     NaN                              NaN   \n",
       "3                                 39804.7                              NaN   \n",
       "4                                 39605.5                              NaN   \n",
       "\n",
       "  Total Pediatric Hospital Beds In-Use Total Hospital Beds Used by COVID cases  \n",
       "0                                  NaN                                     NaN  \n",
       "1                                  NaN                                     NaN  \n",
       "2                                  NaN                                     NaN  \n",
       "3                              28042.8                                 24142.5  \n",
       "4                              27778.1                                     NaN  "
      ]
     },
     "execution_count": 12,
     "metadata": {},
     "output_type": "execute_result"
    }
   ],
   "source": [
    "# II\n",
    "records"
   ]
  },
  {
   "cell_type": "code",
   "execution_count": null,
   "metadata": {},
   "outputs": [],
   "source": []
  }
 ],
 "metadata": {
  "kernelspec": {
   "display_name": "Python 3.9.12 ('base')",
   "language": "python",
   "name": "python3"
  },
  "language_info": {
   "codemirror_mode": {
    "name": "ipython",
    "version": 3
   },
   "file_extension": ".py",
   "mimetype": "text/x-python",
   "name": "python",
   "nbconvert_exporter": "python",
   "pygments_lexer": "ipython3",
   "version": "3.9.12"
  },
  "orig_nbformat": 4,
  "vscode": {
   "interpreter": {
    "hash": "55926297d729444d6a44872173619c6a604808d4d22f57f1aed2dc5a8bfe54c8"
   }
  }
 },
 "nbformat": 4,
 "nbformat_minor": 2
}
