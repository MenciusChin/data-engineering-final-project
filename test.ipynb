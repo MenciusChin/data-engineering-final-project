{
 "cells": [
  {
   "cell_type": "code",
   "execution_count": null,
   "metadata": {},
   "outputs": [],
   "source": [
    "\n",
    "import sys\n",
    "import pandas as pd\n",
    "from credentials import DB_USER, DB_PASSWORD"
   ]
  }
 ],
 "metadata": {
  "kernelspec": {
   "display_name": "Python 3.9.12 ('base')",
   "language": "python",
   "name": "python3"
  },
  "language_info": {
   "name": "python",
   "version": "3.9.12"
  },
  "orig_nbformat": 4,
  "vscode": {
   "interpreter": {
    "hash": "55926297d729444d6a44872173619c6a604808d4d22f57f1aed2dc5a8bfe54c8"
   }
  }
 },
 "nbformat": 4,
 "nbformat_minor": 2
}
